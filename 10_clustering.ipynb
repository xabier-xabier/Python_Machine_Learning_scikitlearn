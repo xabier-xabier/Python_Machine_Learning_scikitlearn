{
 "cells": [
  {
   "cell_type": "code",
   "execution_count": 1,
   "metadata": {},
   "outputs": [],
   "source": [
    "import numpy as np\n",
    "import pandas as pd\n",
    "import matplotlib.pyplot as plt\n",
    "import seaborn as sns\n",
    "sns.set()\n",
    "\n",
    "#preprocessing\n",
    "from sklearn.preprocessing import StandardScaler, MinMaxScaler\n",
    "from scipy.stats import mode\n",
    "\n",
    "\n",
    "# pipelines\n",
    "from sklearn.pipeline import Pipeline\n",
    "\n"
   ]
  },
  {
   "cell_type": "markdown",
   "metadata": {},
   "source": [
    "# Clustering Customer Data\n",
    "\n",
    "In this notebook we will use your previously cleaned and preprocessing customer dataset to practice clustering."
   ]
  },
  {
   "cell_type": "code",
   "execution_count": 2,
   "metadata": {},
   "outputs": [],
   "source": [
    "# Read in the data found in \"best_one_ever_database.csv\" and take a look at the head and info.\n",
    "data = pd.read_csv(\"best_one_ever_database.csv\", index_col = 'id')"
   ]
  },
  {
   "cell_type": "code",
   "execution_count": 3,
   "metadata": {},
   "outputs": [
    {
     "data": {
      "text/html": [
       "<div>\n",
       "<style scoped>\n",
       "    .dataframe tbody tr th:only-of-type {\n",
       "        vertical-align: middle;\n",
       "    }\n",
       "\n",
       "    .dataframe tbody tr th {\n",
       "        vertical-align: top;\n",
       "    }\n",
       "\n",
       "    .dataframe thead th {\n",
       "        text-align: right;\n",
       "    }\n",
       "</style>\n",
       "<table border=\"1\" class=\"dataframe\">\n",
       "  <thead>\n",
       "    <tr style=\"text-align: right;\">\n",
       "      <th></th>\n",
       "      <th>first_name</th>\n",
       "      <th>last_name</th>\n",
       "      <th>email</th>\n",
       "      <th>gender</th>\n",
       "      <th>ip_address</th>\n",
       "      <th>sales</th>\n",
       "      <th>zip_code</th>\n",
       "      <th>total_num_of_transactions</th>\n",
       "      <th>prob_of_rebuy</th>\n",
       "      <th>money_spent</th>\n",
       "    </tr>\n",
       "    <tr>\n",
       "      <th>id</th>\n",
       "      <th></th>\n",
       "      <th></th>\n",
       "      <th></th>\n",
       "      <th></th>\n",
       "      <th></th>\n",
       "      <th></th>\n",
       "      <th></th>\n",
       "      <th></th>\n",
       "      <th></th>\n",
       "      <th></th>\n",
       "    </tr>\n",
       "  </thead>\n",
       "  <tbody>\n",
       "    <tr>\n",
       "      <th>1</th>\n",
       "      <td>Jarred</td>\n",
       "      <td>Hallsworth</td>\n",
       "      <td>jhallsworth0@biblegateway.com</td>\n",
       "      <td>Non-Binary</td>\n",
       "      <td>223.109.240.148</td>\n",
       "      <td>$606.16</td>\n",
       "      <td>85349</td>\n",
       "      <td>7</td>\n",
       "      <td>NaN</td>\n",
       "      <td>3310.505486</td>\n",
       "    </tr>\n",
       "    <tr>\n",
       "      <th>2</th>\n",
       "      <td>Wayne</td>\n",
       "      <td>Robez</td>\n",
       "      <td>wrobez1@t.co</td>\n",
       "      <td>Male</td>\n",
       "      <td>73.174.113.87</td>\n",
       "      <td>$147.22</td>\n",
       "      <td>85336</td>\n",
       "      <td>9</td>\n",
       "      <td>NaN</td>\n",
       "      <td>2188.852818</td>\n",
       "    </tr>\n",
       "    <tr>\n",
       "      <th>3</th>\n",
       "      <td>Casper</td>\n",
       "      <td>Hayles</td>\n",
       "      <td>chayles2@cdc.gov</td>\n",
       "      <td>Male</td>\n",
       "      <td>223.249.117.173</td>\n",
       "      <td>$801.97</td>\n",
       "      <td>85350</td>\n",
       "      <td>4</td>\n",
       "      <td>0.597445</td>\n",
       "      <td>2640.499644</td>\n",
       "    </tr>\n",
       "    <tr>\n",
       "      <th>4</th>\n",
       "      <td>Mandie</td>\n",
       "      <td>Szepe</td>\n",
       "      <td>mszepe3@lulu.com</td>\n",
       "      <td>Female</td>\n",
       "      <td>31.143.95.228</td>\n",
       "      <td>$336.77</td>\n",
       "      <td>85364</td>\n",
       "      <td>4</td>\n",
       "      <td>NaN</td>\n",
       "      <td>2872.580992</td>\n",
       "    </tr>\n",
       "    <tr>\n",
       "      <th>5</th>\n",
       "      <td>Noam</td>\n",
       "      <td>Cecely</td>\n",
       "      <td>ncecely4@elegantthemes.com</td>\n",
       "      <td>Male</td>\n",
       "      <td>63.71.174.230</td>\n",
       "      <td>$757.45</td>\n",
       "      <td>85369</td>\n",
       "      <td>8</td>\n",
       "      <td>0.127835</td>\n",
       "      <td>2728.008966</td>\n",
       "    </tr>\n",
       "  </tbody>\n",
       "</table>\n",
       "</div>"
      ],
      "text/plain": [
       "   first_name   last_name                          email      gender  \\\n",
       "id                                                                     \n",
       "1      Jarred  Hallsworth  jhallsworth0@biblegateway.com  Non-Binary   \n",
       "2       Wayne       Robez                   wrobez1@t.co        Male   \n",
       "3      Casper      Hayles               chayles2@cdc.gov        Male   \n",
       "4      Mandie       Szepe               mszepe3@lulu.com      Female   \n",
       "5        Noam      Cecely     ncecely4@elegantthemes.com        Male   \n",
       "\n",
       "         ip_address     sales  zip_code  total_num_of_transactions  \\\n",
       "id                                                                   \n",
       "1   223.109.240.148  $606.16      85349                          7   \n",
       "2     73.174.113.87  $147.22      85336                          9   \n",
       "3   223.249.117.173  $801.97      85350                          4   \n",
       "4     31.143.95.228  $336.77      85364                          4   \n",
       "5     63.71.174.230  $757.45      85369                          8   \n",
       "\n",
       "    prob_of_rebuy  money_spent  \n",
       "id                              \n",
       "1             NaN  3310.505486  \n",
       "2             NaN  2188.852818  \n",
       "3        0.597445  2640.499644  \n",
       "4             NaN  2872.580992  \n",
       "5        0.127835  2728.008966  "
      ]
     },
     "execution_count": 3,
     "metadata": {},
     "output_type": "execute_result"
    }
   ],
   "source": [
    "data.head()"
   ]
  },
  {
   "cell_type": "code",
   "execution_count": 4,
   "metadata": {},
   "outputs": [
    {
     "name": "stdout",
     "output_type": "stream",
     "text": [
      "<class 'pandas.core.frame.DataFrame'>\n",
      "Index: 2000 entries, 1 to 2000\n",
      "Data columns (total 10 columns):\n",
      " #   Column                     Non-Null Count  Dtype  \n",
      "---  ------                     --------------  -----  \n",
      " 0   first_name                 2000 non-null   object \n",
      " 1   last_name                  2000 non-null   object \n",
      " 2   email                      2000 non-null   object \n",
      " 3   gender                     2000 non-null   object \n",
      " 4   ip_address                 2000 non-null   object \n",
      " 5   sales                      2000 non-null   object \n",
      " 6   zip_code                   2000 non-null   int64  \n",
      " 7   total_num_of_transactions  2000 non-null   int64  \n",
      " 8   prob_of_rebuy              1538 non-null   float64\n",
      " 9   money_spent                1690 non-null   float64\n",
      "dtypes: float64(2), int64(2), object(6)\n",
      "memory usage: 171.9+ KB\n"
     ]
    }
   ],
   "source": [
    "data.info()"
   ]
  },
  {
   "cell_type": "markdown",
   "metadata": {},
   "source": [
    "# Cleaning The Data\n",
    "\n"
   ]
  },
  {
   "cell_type": "code",
   "execution_count": 5,
   "metadata": {},
   "outputs": [],
   "source": [
    "# drop the name columns using pandas.drop()\n",
    "\n",
    "X = data.drop(labels = ['first_name','last_name'], axis = 1)"
   ]
  },
  {
   "cell_type": "code",
   "execution_count": 6,
   "metadata": {},
   "outputs": [
    {
     "name": "stdout",
     "output_type": "stream",
     "text": [
      "<class 'pandas.core.frame.DataFrame'>\n",
      "Index: 2000 entries, 1 to 2000\n",
      "Data columns (total 8 columns):\n",
      " #   Column                     Non-Null Count  Dtype  \n",
      "---  ------                     --------------  -----  \n",
      " 0   email                      2000 non-null   object \n",
      " 1   gender                     2000 non-null   object \n",
      " 2   ip_address                 2000 non-null   object \n",
      " 3   sales                      2000 non-null   object \n",
      " 4   zip_code                   2000 non-null   int64  \n",
      " 5   total_num_of_transactions  2000 non-null   int64  \n",
      " 6   prob_of_rebuy              1538 non-null   float64\n",
      " 7   money_spent                1690 non-null   float64\n",
      "dtypes: float64(2), int64(2), object(4)\n",
      "memory usage: 140.6+ KB\n"
     ]
    }
   ],
   "source": [
    "X.info()"
   ]
  },
  {
   "cell_type": "markdown",
   "metadata": {},
   "source": [
    "### Transform string columns into useful features\n"
   ]
  },
  {
   "cell_type": "code",
   "execution_count": 7,
   "metadata": {},
   "outputs": [],
   "source": [
    "def strip_dollar(x):\n",
    "    return x[1:]"
   ]
  },
  {
   "cell_type": "code",
   "execution_count": 8,
   "metadata": {},
   "outputs": [],
   "source": [
    "# apply the function to the column and assign it back to the column (it does not work inplace)\n",
    "X.sales = X.sales.apply(strip_dollar)\n",
    "\n",
    "# cast the column to a floating point type - this is very important, otherwise it will be\n",
    "# an object type column that we cannot do arithmetic on the column\n",
    "X.sales = X.sales.astype('float32')"
   ]
  },
  {
   "cell_type": "code",
   "execution_count": 9,
   "metadata": {},
   "outputs": [
    {
     "data": {
      "text/html": [
       "<div>\n",
       "<style scoped>\n",
       "    .dataframe tbody tr th:only-of-type {\n",
       "        vertical-align: middle;\n",
       "    }\n",
       "\n",
       "    .dataframe tbody tr th {\n",
       "        vertical-align: top;\n",
       "    }\n",
       "\n",
       "    .dataframe thead th {\n",
       "        text-align: right;\n",
       "    }\n",
       "</style>\n",
       "<table border=\"1\" class=\"dataframe\">\n",
       "  <thead>\n",
       "    <tr style=\"text-align: right;\">\n",
       "      <th></th>\n",
       "      <th>email</th>\n",
       "      <th>gender</th>\n",
       "      <th>ip_address</th>\n",
       "      <th>sales</th>\n",
       "      <th>zip_code</th>\n",
       "      <th>total_num_of_transactions</th>\n",
       "      <th>prob_of_rebuy</th>\n",
       "      <th>money_spent</th>\n",
       "    </tr>\n",
       "    <tr>\n",
       "      <th>id</th>\n",
       "      <th></th>\n",
       "      <th></th>\n",
       "      <th></th>\n",
       "      <th></th>\n",
       "      <th></th>\n",
       "      <th></th>\n",
       "      <th></th>\n",
       "      <th></th>\n",
       "    </tr>\n",
       "  </thead>\n",
       "  <tbody>\n",
       "    <tr>\n",
       "      <th>1</th>\n",
       "      <td>jhallsworth0@biblegateway.com</td>\n",
       "      <td>Non-Binary</td>\n",
       "      <td>223.109.240.148</td>\n",
       "      <td>606.159973</td>\n",
       "      <td>85349</td>\n",
       "      <td>7</td>\n",
       "      <td>NaN</td>\n",
       "      <td>3310.505486</td>\n",
       "    </tr>\n",
       "    <tr>\n",
       "      <th>2</th>\n",
       "      <td>wrobez1@t.co</td>\n",
       "      <td>Male</td>\n",
       "      <td>73.174.113.87</td>\n",
       "      <td>147.220001</td>\n",
       "      <td>85336</td>\n",
       "      <td>9</td>\n",
       "      <td>NaN</td>\n",
       "      <td>2188.852818</td>\n",
       "    </tr>\n",
       "    <tr>\n",
       "      <th>3</th>\n",
       "      <td>chayles2@cdc.gov</td>\n",
       "      <td>Male</td>\n",
       "      <td>223.249.117.173</td>\n",
       "      <td>801.969971</td>\n",
       "      <td>85350</td>\n",
       "      <td>4</td>\n",
       "      <td>0.597445</td>\n",
       "      <td>2640.499644</td>\n",
       "    </tr>\n",
       "    <tr>\n",
       "      <th>4</th>\n",
       "      <td>mszepe3@lulu.com</td>\n",
       "      <td>Female</td>\n",
       "      <td>31.143.95.228</td>\n",
       "      <td>336.769989</td>\n",
       "      <td>85364</td>\n",
       "      <td>4</td>\n",
       "      <td>NaN</td>\n",
       "      <td>2872.580992</td>\n",
       "    </tr>\n",
       "    <tr>\n",
       "      <th>5</th>\n",
       "      <td>ncecely4@elegantthemes.com</td>\n",
       "      <td>Male</td>\n",
       "      <td>63.71.174.230</td>\n",
       "      <td>757.450012</td>\n",
       "      <td>85369</td>\n",
       "      <td>8</td>\n",
       "      <td>0.127835</td>\n",
       "      <td>2728.008966</td>\n",
       "    </tr>\n",
       "  </tbody>\n",
       "</table>\n",
       "</div>"
      ],
      "text/plain": [
       "                            email      gender       ip_address       sales  \\\n",
       "id                                                                           \n",
       "1   jhallsworth0@biblegateway.com  Non-Binary  223.109.240.148  606.159973   \n",
       "2                    wrobez1@t.co        Male    73.174.113.87  147.220001   \n",
       "3                chayles2@cdc.gov        Male  223.249.117.173  801.969971   \n",
       "4                mszepe3@lulu.com      Female    31.143.95.228  336.769989   \n",
       "5      ncecely4@elegantthemes.com        Male    63.71.174.230  757.450012   \n",
       "\n",
       "    zip_code  total_num_of_transactions  prob_of_rebuy  money_spent  \n",
       "id                                                                   \n",
       "1      85349                          7            NaN  3310.505486  \n",
       "2      85336                          9            NaN  2188.852818  \n",
       "3      85350                          4       0.597445  2640.499644  \n",
       "4      85364                          4            NaN  2872.580992  \n",
       "5      85369                          8       0.127835  2728.008966  "
      ]
     },
     "execution_count": 9,
     "metadata": {},
     "output_type": "execute_result"
    }
   ],
   "source": [
    "X.head()"
   ]
  },
  {
   "cell_type": "code",
   "execution_count": 10,
   "metadata": {},
   "outputs": [
    {
     "name": "stdout",
     "output_type": "stream",
     "text": [
      "gmail.com\n"
     ]
    }
   ],
   "source": [
    "# define functions to apply to the dataframe\n",
    "def strip_emails(x):\n",
    "    at = x.find('@')\n",
    "    return x[at+1:]\n",
    "\n",
    "test_email = 'thisismymail@gmail.com'\n",
    "print(strip_emails(test_email))"
   ]
  },
  {
   "cell_type": "code",
   "execution_count": 11,
   "metadata": {},
   "outputs": [
    {
     "data": {
      "text/html": [
       "<div>\n",
       "<style scoped>\n",
       "    .dataframe tbody tr th:only-of-type {\n",
       "        vertical-align: middle;\n",
       "    }\n",
       "\n",
       "    .dataframe tbody tr th {\n",
       "        vertical-align: top;\n",
       "    }\n",
       "\n",
       "    .dataframe thead th {\n",
       "        text-align: right;\n",
       "    }\n",
       "</style>\n",
       "<table border=\"1\" class=\"dataframe\">\n",
       "  <thead>\n",
       "    <tr style=\"text-align: right;\">\n",
       "      <th></th>\n",
       "      <th>email</th>\n",
       "      <th>gender</th>\n",
       "      <th>ip_address</th>\n",
       "      <th>sales</th>\n",
       "      <th>zip_code</th>\n",
       "      <th>total_num_of_transactions</th>\n",
       "      <th>prob_of_rebuy</th>\n",
       "      <th>money_spent</th>\n",
       "    </tr>\n",
       "    <tr>\n",
       "      <th>id</th>\n",
       "      <th></th>\n",
       "      <th></th>\n",
       "      <th></th>\n",
       "      <th></th>\n",
       "      <th></th>\n",
       "      <th></th>\n",
       "      <th></th>\n",
       "      <th></th>\n",
       "    </tr>\n",
       "  </thead>\n",
       "  <tbody>\n",
       "    <tr>\n",
       "      <th>1</th>\n",
       "      <td>biblegateway.com</td>\n",
       "      <td>Non-Binary</td>\n",
       "      <td>223.109.240.148</td>\n",
       "      <td>606.159973</td>\n",
       "      <td>85349</td>\n",
       "      <td>7</td>\n",
       "      <td>NaN</td>\n",
       "      <td>3310.505486</td>\n",
       "    </tr>\n",
       "    <tr>\n",
       "      <th>2</th>\n",
       "      <td>t.co</td>\n",
       "      <td>Male</td>\n",
       "      <td>73.174.113.87</td>\n",
       "      <td>147.220001</td>\n",
       "      <td>85336</td>\n",
       "      <td>9</td>\n",
       "      <td>NaN</td>\n",
       "      <td>2188.852818</td>\n",
       "    </tr>\n",
       "    <tr>\n",
       "      <th>3</th>\n",
       "      <td>cdc.gov</td>\n",
       "      <td>Male</td>\n",
       "      <td>223.249.117.173</td>\n",
       "      <td>801.969971</td>\n",
       "      <td>85350</td>\n",
       "      <td>4</td>\n",
       "      <td>0.597445</td>\n",
       "      <td>2640.499644</td>\n",
       "    </tr>\n",
       "    <tr>\n",
       "      <th>4</th>\n",
       "      <td>lulu.com</td>\n",
       "      <td>Female</td>\n",
       "      <td>31.143.95.228</td>\n",
       "      <td>336.769989</td>\n",
       "      <td>85364</td>\n",
       "      <td>4</td>\n",
       "      <td>NaN</td>\n",
       "      <td>2872.580992</td>\n",
       "    </tr>\n",
       "    <tr>\n",
       "      <th>5</th>\n",
       "      <td>elegantthemes.com</td>\n",
       "      <td>Male</td>\n",
       "      <td>63.71.174.230</td>\n",
       "      <td>757.450012</td>\n",
       "      <td>85369</td>\n",
       "      <td>8</td>\n",
       "      <td>0.127835</td>\n",
       "      <td>2728.008966</td>\n",
       "    </tr>\n",
       "  </tbody>\n",
       "</table>\n",
       "</div>"
      ],
      "text/plain": [
       "                email      gender       ip_address       sales  zip_code  \\\n",
       "id                                                                         \n",
       "1    biblegateway.com  Non-Binary  223.109.240.148  606.159973     85349   \n",
       "2                t.co        Male    73.174.113.87  147.220001     85336   \n",
       "3             cdc.gov        Male  223.249.117.173  801.969971     85350   \n",
       "4            lulu.com      Female    31.143.95.228  336.769989     85364   \n",
       "5   elegantthemes.com        Male    63.71.174.230  757.450012     85369   \n",
       "\n",
       "    total_num_of_transactions  prob_of_rebuy  money_spent  \n",
       "id                                                         \n",
       "1                           7            NaN  3310.505486  \n",
       "2                           9            NaN  2188.852818  \n",
       "3                           4       0.597445  2640.499644  \n",
       "4                           4            NaN  2872.580992  \n",
       "5                           8       0.127835  2728.008966  "
      ]
     },
     "execution_count": 11,
     "metadata": {},
     "output_type": "execute_result"
    }
   ],
   "source": [
    "# apply the function to the column and assign it back to the column (it does not work inplace)\n",
    "X.email = X.email.apply(strip_emails)\n",
    "X.head()"
   ]
  },
  {
   "cell_type": "markdown",
   "metadata": {},
   "source": [
    "# Is the email column going to be worth it?\n",
    "Let's take a look at this email column and decide if it could help us or not.\n"
   ]
  },
  {
   "cell_type": "code",
   "execution_count": 12,
   "metadata": {},
   "outputs": [],
   "source": [
    "# how many unique domains are there?\n",
    "counts = X.email.value_counts()"
   ]
  },
  {
   "cell_type": "code",
   "execution_count": 13,
   "metadata": {},
   "outputs": [
    {
     "name": "stdout",
     "output_type": "stream",
     "text": [
      "[10 10 10 10 10 10  9  9  9  9  9  9  8  8  8  8  8  8  8  8  8  8  8  8\n",
      "  8  8  8  8  8  8  8  8  8  7  7  7  7  7  7  7  7  7  7  7  7  7  7  7\n",
      "  7  7  7  7  7  7  7  7  7  6  6  6  6  6  6  6  6  6  6  6  6  6  6  6\n",
      "  6  6  6  6  6  6  6  6  6  6  6  6  6  6  6  6  6  6  6  6  6  6  6  6\n",
      "  6  6  6  6  5  5  5  5  5  5  5  5  5  5  5  5  5  5  5  5  5  5  5  5\n",
      "  5  5  5  5  5  5  5  5  5  5  5  5  5  5  5  5  5  5  5  5  5  5  5  5\n",
      "  5  5  5  5  5  5  5  5  5  5  5  5  5  5  5  5  5  5  5  5  5  5  5  5\n",
      "  5  5  5  5  5  5  5  5  5  5  5  5  5  5  5  5  4  4  4  4  4  4  4  4\n",
      "  4  4  4  4  4  4  4  4  4  4  4  4  4  4  4  4  4  4  4  4  4  4  4  4\n",
      "  4  4  4  4  4  4  4  4  4  4  4  4  4  4  4  4  4  4  4  4  4  4  4  4\n",
      "  4  4  4  4  4  4  4  4  4  4  4  4  4  4  4  4  4  4  4  4  4  4  4  4\n",
      "  4  4  4  4  4  4  4  4  4  4  4  4  4  4  4  4  4  4  4  4  4  4  4  4\n",
      "  4  4  4  4  3  3  3  3  3  3  3  3  3  3  3  3  3  3  3  3  3  3  3  3\n",
      "  3  3  3  3  3  3  3  3  3  3  3  3  3  3  3  3  3  3  3  3  3  3  3  3\n",
      "  3  3  3  3  3  3  3  3  3  3  3  3  3  3  3  3  3  3  3  3  3  3  3  3\n",
      "  3  3  3  3  3  3  3  3  3  3  3  3  3  3  3  3  3  3  3  2  2  2  2  2\n",
      "  2  2  2  2  2  2  2  2  2  2  2  2  2  2  2  2  2  2  2  2  2  2  2  2\n",
      "  2  2  2  2  2  2  2  2  2  2  2  2  2  2  2  2  2  2  2  2  2  2  2  2\n",
      "  2  2  2  2  2  2  2  2  2  2  2  2  2  2  2  1  1  1  1  1  1  1  1  1\n",
      "  1  1  1  1  1  1  1  1  1  1  1  1  1  1  1  1  1  1  1  1  1  1  1  1\n",
      "  1  1  1  1  1  1  1  1  1  1]\n"
     ]
    }
   ],
   "source": [
    "print(counts.values)"
   ]
  },
  {
   "cell_type": "markdown",
   "metadata": {},
   "source": [
    "No, it doesn't seem like this column will be very helpful as it's quite spread out. There are 490 unique values and no one value has a majority, so let's just leave it to the side for now. We can always come back to it later."
   ]
  },
  {
   "cell_type": "code",
   "execution_count": 14,
   "metadata": {},
   "outputs": [],
   "source": [
    "# we make sure to copy it over and save it for later.\n",
    "emails = X.email.copy()\n",
    "X.drop('email', axis=1, inplace = True)"
   ]
  },
  {
   "cell_type": "code",
   "execution_count": 15,
   "metadata": {},
   "outputs": [
    {
     "name": "stdout",
     "output_type": "stream",
     "text": [
      "<class 'pandas.core.frame.DataFrame'>\n",
      "Index: 2000 entries, 1 to 2000\n",
      "Data columns (total 7 columns):\n",
      " #   Column                     Non-Null Count  Dtype  \n",
      "---  ------                     --------------  -----  \n",
      " 0   gender                     2000 non-null   object \n",
      " 1   ip_address                 2000 non-null   object \n",
      " 2   sales                      2000 non-null   float32\n",
      " 3   zip_code                   2000 non-null   int64  \n",
      " 4   total_num_of_transactions  2000 non-null   int64  \n",
      " 5   prob_of_rebuy              1538 non-null   float64\n",
      " 6   money_spent                1690 non-null   float64\n",
      "dtypes: float32(1), float64(2), int64(2), object(2)\n",
      "memory usage: 117.2+ KB\n"
     ]
    }
   ],
   "source": [
    "X.info()"
   ]
  },
  {
   "cell_type": "markdown",
   "metadata": {},
   "source": [
    "## Splitting the IP Address\n",
    "We now need to split up the IP address, we will use Pandas's built in str method for this."
   ]
  },
  {
   "cell_type": "code",
   "execution_count": 16,
   "metadata": {},
   "outputs": [],
   "source": [
    "X[['first_ip','second_ip','third_ip','fourth_ip']] = X.ip_address.str.split(pat=\".\", expand=True)"
   ]
  },
  {
   "cell_type": "code",
   "execution_count": 17,
   "metadata": {},
   "outputs": [],
   "source": [
    "# now we cast the columns as floats\n",
    "X[['first_ip','second_ip','third_ip','fourth_ip']] = X[['first_ip','second_ip','third_ip','fourth_ip']].astype('float32')\n",
    "# we also drop the original column\n",
    "X.drop('ip_address', axis=1, inplace=True)"
   ]
  },
  {
   "cell_type": "code",
   "execution_count": 18,
   "metadata": {},
   "outputs": [
    {
     "name": "stdout",
     "output_type": "stream",
     "text": [
      "<class 'pandas.core.frame.DataFrame'>\n",
      "Index: 2000 entries, 1 to 2000\n",
      "Data columns (total 10 columns):\n",
      " #   Column                     Non-Null Count  Dtype  \n",
      "---  ------                     --------------  -----  \n",
      " 0   gender                     2000 non-null   object \n",
      " 1   sales                      2000 non-null   float32\n",
      " 2   zip_code                   2000 non-null   int64  \n",
      " 3   total_num_of_transactions  2000 non-null   int64  \n",
      " 4   prob_of_rebuy              1538 non-null   float64\n",
      " 5   money_spent                1690 non-null   float64\n",
      " 6   first_ip                   2000 non-null   float32\n",
      " 7   second_ip                  2000 non-null   float32\n",
      " 8   third_ip                   2000 non-null   float32\n",
      " 9   fourth_ip                  2000 non-null   float32\n",
      "dtypes: float32(5), float64(2), int64(2), object(1)\n",
      "memory usage: 132.8+ KB\n"
     ]
    }
   ],
   "source": [
    "X.info()"
   ]
  },
  {
   "cell_type": "markdown",
   "metadata": {},
   "source": [
    "# One Hot Encoding\n",
    "\n",
    "Ok we are almost done, we just have to convert the gender column into something integer that we can use. We will use one-hot-encoding since gender is a categorical variable.\n",
    "\n",
    "Pandas has a `get_dummies()` function that will be very useful.\n"
   ]
  },
  {
   "cell_type": "code",
   "execution_count": 19,
   "metadata": {},
   "outputs": [
    {
     "data": {
      "text/plain": [
       "gender\n",
       "Male          775\n",
       "Female        725\n",
       "Non-Binary    500\n",
       "Name: count, dtype: int64"
      ]
     },
     "execution_count": 19,
     "metadata": {},
     "output_type": "execute_result"
    }
   ],
   "source": [
    "X.gender.value_counts()"
   ]
  },
  {
   "cell_type": "code",
   "execution_count": 20,
   "metadata": {},
   "outputs": [
    {
     "data": {
      "text/html": [
       "<div>\n",
       "<style scoped>\n",
       "    .dataframe tbody tr th:only-of-type {\n",
       "        vertical-align: middle;\n",
       "    }\n",
       "\n",
       "    .dataframe tbody tr th {\n",
       "        vertical-align: top;\n",
       "    }\n",
       "\n",
       "    .dataframe thead th {\n",
       "        text-align: right;\n",
       "    }\n",
       "</style>\n",
       "<table border=\"1\" class=\"dataframe\">\n",
       "  <thead>\n",
       "    <tr style=\"text-align: right;\">\n",
       "      <th></th>\n",
       "      <th>sales</th>\n",
       "      <th>zip_code</th>\n",
       "      <th>total_num_of_transactions</th>\n",
       "      <th>prob_of_rebuy</th>\n",
       "      <th>money_spent</th>\n",
       "      <th>first_ip</th>\n",
       "      <th>second_ip</th>\n",
       "      <th>third_ip</th>\n",
       "      <th>fourth_ip</th>\n",
       "      <th>Female</th>\n",
       "      <th>Male</th>\n",
       "      <th>Non-Binary</th>\n",
       "    </tr>\n",
       "    <tr>\n",
       "      <th>id</th>\n",
       "      <th></th>\n",
       "      <th></th>\n",
       "      <th></th>\n",
       "      <th></th>\n",
       "      <th></th>\n",
       "      <th></th>\n",
       "      <th></th>\n",
       "      <th></th>\n",
       "      <th></th>\n",
       "      <th></th>\n",
       "      <th></th>\n",
       "      <th></th>\n",
       "    </tr>\n",
       "  </thead>\n",
       "  <tbody>\n",
       "    <tr>\n",
       "      <th>1</th>\n",
       "      <td>606.159973</td>\n",
       "      <td>85349</td>\n",
       "      <td>7</td>\n",
       "      <td>NaN</td>\n",
       "      <td>3310.505486</td>\n",
       "      <td>223.0</td>\n",
       "      <td>109.0</td>\n",
       "      <td>240.0</td>\n",
       "      <td>148.0</td>\n",
       "      <td>0</td>\n",
       "      <td>0</td>\n",
       "      <td>1</td>\n",
       "    </tr>\n",
       "    <tr>\n",
       "      <th>2</th>\n",
       "      <td>147.220001</td>\n",
       "      <td>85336</td>\n",
       "      <td>9</td>\n",
       "      <td>NaN</td>\n",
       "      <td>2188.852818</td>\n",
       "      <td>73.0</td>\n",
       "      <td>174.0</td>\n",
       "      <td>113.0</td>\n",
       "      <td>87.0</td>\n",
       "      <td>0</td>\n",
       "      <td>1</td>\n",
       "      <td>0</td>\n",
       "    </tr>\n",
       "    <tr>\n",
       "      <th>3</th>\n",
       "      <td>801.969971</td>\n",
       "      <td>85350</td>\n",
       "      <td>4</td>\n",
       "      <td>0.597445</td>\n",
       "      <td>2640.499644</td>\n",
       "      <td>223.0</td>\n",
       "      <td>249.0</td>\n",
       "      <td>117.0</td>\n",
       "      <td>173.0</td>\n",
       "      <td>0</td>\n",
       "      <td>1</td>\n",
       "      <td>0</td>\n",
       "    </tr>\n",
       "    <tr>\n",
       "      <th>4</th>\n",
       "      <td>336.769989</td>\n",
       "      <td>85364</td>\n",
       "      <td>4</td>\n",
       "      <td>NaN</td>\n",
       "      <td>2872.580992</td>\n",
       "      <td>31.0</td>\n",
       "      <td>143.0</td>\n",
       "      <td>95.0</td>\n",
       "      <td>228.0</td>\n",
       "      <td>1</td>\n",
       "      <td>0</td>\n",
       "      <td>0</td>\n",
       "    </tr>\n",
       "    <tr>\n",
       "      <th>5</th>\n",
       "      <td>757.450012</td>\n",
       "      <td>85369</td>\n",
       "      <td>8</td>\n",
       "      <td>0.127835</td>\n",
       "      <td>2728.008966</td>\n",
       "      <td>63.0</td>\n",
       "      <td>71.0</td>\n",
       "      <td>174.0</td>\n",
       "      <td>230.0</td>\n",
       "      <td>0</td>\n",
       "      <td>1</td>\n",
       "      <td>0</td>\n",
       "    </tr>\n",
       "  </tbody>\n",
       "</table>\n",
       "</div>"
      ],
      "text/plain": [
       "         sales  zip_code  total_num_of_transactions  prob_of_rebuy  \\\n",
       "id                                                                   \n",
       "1   606.159973     85349                          7            NaN   \n",
       "2   147.220001     85336                          9            NaN   \n",
       "3   801.969971     85350                          4       0.597445   \n",
       "4   336.769989     85364                          4            NaN   \n",
       "5   757.450012     85369                          8       0.127835   \n",
       "\n",
       "    money_spent  first_ip  second_ip  third_ip  fourth_ip  Female  Male  \\\n",
       "id                                                                        \n",
       "1   3310.505486     223.0      109.0     240.0      148.0       0     0   \n",
       "2   2188.852818      73.0      174.0     113.0       87.0       0     1   \n",
       "3   2640.499644     223.0      249.0     117.0      173.0       0     1   \n",
       "4   2872.580992      31.0      143.0      95.0      228.0       1     0   \n",
       "5   2728.008966      63.0       71.0     174.0      230.0       0     1   \n",
       "\n",
       "    Non-Binary  \n",
       "id              \n",
       "1            1  \n",
       "2            0  \n",
       "3            0  \n",
       "4            0  \n",
       "5            0  "
      ]
     },
     "execution_count": 20,
     "metadata": {},
     "output_type": "execute_result"
    }
   ],
   "source": [
    "dumbdumbs = pd.get_dummies(X['gender'], dtype=int)\n",
    "X= pd.concat((X,dumbdumbs), axis = 1)\n",
    "X.drop(['gender'], axis = 1, inplace=True)\n",
    "X.head()"
   ]
  },
  {
   "cell_type": "code",
   "execution_count": 21,
   "metadata": {},
   "outputs": [
    {
     "name": "stdout",
     "output_type": "stream",
     "text": [
      "<class 'pandas.core.frame.DataFrame'>\n",
      "Index: 2000 entries, 1 to 2000\n",
      "Data columns (total 12 columns):\n",
      " #   Column                     Non-Null Count  Dtype  \n",
      "---  ------                     --------------  -----  \n",
      " 0   sales                      2000 non-null   float32\n",
      " 1   zip_code                   2000 non-null   int64  \n",
      " 2   total_num_of_transactions  2000 non-null   int64  \n",
      " 3   prob_of_rebuy              1538 non-null   float64\n",
      " 4   money_spent                1690 non-null   float64\n",
      " 5   first_ip                   2000 non-null   float32\n",
      " 6   second_ip                  2000 non-null   float32\n",
      " 7   third_ip                   2000 non-null   float32\n",
      " 8   fourth_ip                  2000 non-null   float32\n",
      " 9   Female                     2000 non-null   int32  \n",
      " 10  Male                       2000 non-null   int32  \n",
      " 11  Non-Binary                 2000 non-null   int32  \n",
      "dtypes: float32(5), float64(2), int32(3), int64(2)\n",
      "memory usage: 140.6 KB\n"
     ]
    }
   ],
   "source": [
    "X.info()"
   ]
  },
  {
   "cell_type": "markdown",
   "metadata": {},
   "source": [
    "# Data Preprocessing Stage 2 - Missing values\n",
    "\n"
   ]
  },
  {
   "cell_type": "code",
   "execution_count": 22,
   "metadata": {},
   "outputs": [],
   "source": [
    "from sklearn.impute import SimpleImputer\n",
    "imp = SimpleImputer(missing_values=np.nan, strategy='mean')"
   ]
  },
  {
   "cell_type": "code",
   "execution_count": 23,
   "metadata": {},
   "outputs": [],
   "source": [
    "X_ = imp.fit_transform(X)"
   ]
  },
  {
   "cell_type": "code",
   "execution_count": 24,
   "metadata": {},
   "outputs": [],
   "source": [
    "X= pd.DataFrame(X_, columns=X.columns)"
   ]
  },
  {
   "cell_type": "code",
   "execution_count": 25,
   "metadata": {},
   "outputs": [
    {
     "name": "stdout",
     "output_type": "stream",
     "text": [
      "<class 'pandas.core.frame.DataFrame'>\n",
      "RangeIndex: 2000 entries, 0 to 1999\n",
      "Data columns (total 12 columns):\n",
      " #   Column                     Non-Null Count  Dtype  \n",
      "---  ------                     --------------  -----  \n",
      " 0   sales                      2000 non-null   float64\n",
      " 1   zip_code                   2000 non-null   float64\n",
      " 2   total_num_of_transactions  2000 non-null   float64\n",
      " 3   prob_of_rebuy              2000 non-null   float64\n",
      " 4   money_spent                2000 non-null   float64\n",
      " 5   first_ip                   2000 non-null   float64\n",
      " 6   second_ip                  2000 non-null   float64\n",
      " 7   third_ip                   2000 non-null   float64\n",
      " 8   fourth_ip                  2000 non-null   float64\n",
      " 9   Female                     2000 non-null   float64\n",
      " 10  Male                       2000 non-null   float64\n",
      " 11  Non-Binary                 2000 non-null   float64\n",
      "dtypes: float64(12)\n",
      "memory usage: 187.6 KB\n"
     ]
    }
   ],
   "source": [
    "X.info()"
   ]
  },
  {
   "cell_type": "markdown",
   "metadata": {},
   "source": [
    "# Clustering\n",
    "\n",
    "Ok, now we have our customer data all ready to go. We have done all the hard work of preprocessing. Let's feed this data into our algorithms!\n",
    "\n",
    "We'll try two different clustering algorithms. K-means and DB-scan.\n",
    "\n",
    "\n",
    "Our goal is to cluster the data and learn what kinds of customers we have, are they related to one another at all? In order to do this we should try some clustering"
   ]
  },
  {
   "cell_type": "markdown",
   "metadata": {},
   "source": [
    "# Cluster with  K-means\n",
    "\n",
    "Let's just make some clusters and evaluate it with their silhouette score. A reminder about the silhouette score\n",
    "\n",
    ">The best value is 1 and the worst value is -1. Values near 0 indicate overlapping clusters. Negative values generally indicate that a sample has been assigned to the wrong cluster, as a different cluster is more similar.\n",
    "\n",
    "From : https://scikit-learn.org/stable/modules/generated/sklearn.metrics.silhouette_score.html#sklearn.metrics.silhouette_score\n",
    "\n",
    "We should scale the data first since we are hunting for clusters we definitely want the dimensions to be on the same scale (remember that distance means everything here!).\n",
    "\n"
   ]
  },
  {
   "cell_type": "code",
   "execution_count": 27,
   "metadata": {},
   "outputs": [],
   "source": [
    "# import what you need\n",
    "#clustering\n",
    "from sklearn.cluster import DBSCAN, KMeans\n",
    "\n",
    "#clustering metrics\n",
    "from sklearn.metrics import silhouette_score\n",
    "\n"
   ]
  },
  {
   "cell_type": "code",
   "execution_count": 28,
   "metadata": {},
   "outputs": [],
   "source": [
    "# scale your data with a scaler of your choice\n",
    "ss= StandardScaler()                #siempre hay qu escalarlo porque el algoritmo depende de calcular distancias, sino sera una locura\n",
    "x_scaled=ss.fit_transform(X)"
   ]
  },
  {
   "cell_type": "code",
   "execution_count": 29,
   "metadata": {},
   "outputs": [
    {
     "name": "stderr",
     "output_type": "stream",
     "text": [
      "c:\\Users\\sagar\\OneDrive\\Escritorio\\Data_science&ML\\data-science-machine-learning-main\\notebooks\\venv\\Lib\\site-packages\\sklearn\\cluster\\_kmeans.py:1412: FutureWarning: The default value of `n_init` will change from 10 to 'auto' in 1.4. Set the value of `n_init` explicitly to suppress the warning\n",
      "  super()._check_params_vs_input(X, default_n_init=10)\n",
      "c:\\Users\\sagar\\OneDrive\\Escritorio\\Data_science&ML\\data-science-machine-learning-main\\notebooks\\venv\\Lib\\site-packages\\joblib\\externals\\loky\\backend\\context.py:136: UserWarning: Could not find the number of physical cores for the following reason:\n",
      "found 0 physical cores < 1\n",
      "Returning the number of logical cores instead. You can silence this warning by setting LOKY_MAX_CPU_COUNT to the number of cores you want to use.\n",
      "  warnings.warn(\n",
      "  File \"c:\\Users\\sagar\\OneDrive\\Escritorio\\Data_science&ML\\data-science-machine-learning-main\\notebooks\\venv\\Lib\\site-packages\\joblib\\externals\\loky\\backend\\context.py\", line 282, in _count_physical_cores\n",
      "    raise ValueError(f\"found {cpu_count_physical} physical cores < 1\")\n"
     ]
    },
    {
     "data": {
      "text/html": [
       "<style>#sk-container-id-1 {color: black;}#sk-container-id-1 pre{padding: 0;}#sk-container-id-1 div.sk-toggleable {background-color: white;}#sk-container-id-1 label.sk-toggleable__label {cursor: pointer;display: block;width: 100%;margin-bottom: 0;padding: 0.3em;box-sizing: border-box;text-align: center;}#sk-container-id-1 label.sk-toggleable__label-arrow:before {content: \"▸\";float: left;margin-right: 0.25em;color: #696969;}#sk-container-id-1 label.sk-toggleable__label-arrow:hover:before {color: black;}#sk-container-id-1 div.sk-estimator:hover label.sk-toggleable__label-arrow:before {color: black;}#sk-container-id-1 div.sk-toggleable__content {max-height: 0;max-width: 0;overflow: hidden;text-align: left;background-color: #f0f8ff;}#sk-container-id-1 div.sk-toggleable__content pre {margin: 0.2em;color: black;border-radius: 0.25em;background-color: #f0f8ff;}#sk-container-id-1 input.sk-toggleable__control:checked~div.sk-toggleable__content {max-height: 200px;max-width: 100%;overflow: auto;}#sk-container-id-1 input.sk-toggleable__control:checked~label.sk-toggleable__label-arrow:before {content: \"▾\";}#sk-container-id-1 div.sk-estimator input.sk-toggleable__control:checked~label.sk-toggleable__label {background-color: #d4ebff;}#sk-container-id-1 div.sk-label input.sk-toggleable__control:checked~label.sk-toggleable__label {background-color: #d4ebff;}#sk-container-id-1 input.sk-hidden--visually {border: 0;clip: rect(1px 1px 1px 1px);clip: rect(1px, 1px, 1px, 1px);height: 1px;margin: -1px;overflow: hidden;padding: 0;position: absolute;width: 1px;}#sk-container-id-1 div.sk-estimator {font-family: monospace;background-color: #f0f8ff;border: 1px dotted black;border-radius: 0.25em;box-sizing: border-box;margin-bottom: 0.5em;}#sk-container-id-1 div.sk-estimator:hover {background-color: #d4ebff;}#sk-container-id-1 div.sk-parallel-item::after {content: \"\";width: 100%;border-bottom: 1px solid gray;flex-grow: 1;}#sk-container-id-1 div.sk-label:hover label.sk-toggleable__label {background-color: #d4ebff;}#sk-container-id-1 div.sk-serial::before {content: \"\";position: absolute;border-left: 1px solid gray;box-sizing: border-box;top: 0;bottom: 0;left: 50%;z-index: 0;}#sk-container-id-1 div.sk-serial {display: flex;flex-direction: column;align-items: center;background-color: white;padding-right: 0.2em;padding-left: 0.2em;position: relative;}#sk-container-id-1 div.sk-item {position: relative;z-index: 1;}#sk-container-id-1 div.sk-parallel {display: flex;align-items: stretch;justify-content: center;background-color: white;position: relative;}#sk-container-id-1 div.sk-item::before, #sk-container-id-1 div.sk-parallel-item::before {content: \"\";position: absolute;border-left: 1px solid gray;box-sizing: border-box;top: 0;bottom: 0;left: 50%;z-index: -1;}#sk-container-id-1 div.sk-parallel-item {display: flex;flex-direction: column;z-index: 1;position: relative;background-color: white;}#sk-container-id-1 div.sk-parallel-item:first-child::after {align-self: flex-end;width: 50%;}#sk-container-id-1 div.sk-parallel-item:last-child::after {align-self: flex-start;width: 50%;}#sk-container-id-1 div.sk-parallel-item:only-child::after {width: 0;}#sk-container-id-1 div.sk-dashed-wrapped {border: 1px dashed gray;margin: 0 0.4em 0.5em 0.4em;box-sizing: border-box;padding-bottom: 0.4em;background-color: white;}#sk-container-id-1 div.sk-label label {font-family: monospace;font-weight: bold;display: inline-block;line-height: 1.2em;}#sk-container-id-1 div.sk-label-container {text-align: center;}#sk-container-id-1 div.sk-container {/* jupyter's `normalize.less` sets `[hidden] { display: none; }` but bootstrap.min.css set `[hidden] { display: none !important; }` so we also need the `!important` here to be able to override the default hidden behavior on the sphinx rendered scikit-learn.org. See: https://github.com/scikit-learn/scikit-learn/issues/21755 */display: inline-block !important;position: relative;}#sk-container-id-1 div.sk-text-repr-fallback {display: none;}</style><div id=\"sk-container-id-1\" class=\"sk-top-container\"><div class=\"sk-text-repr-fallback\"><pre>KMeans(n_clusters=10)</pre><b>In a Jupyter environment, please rerun this cell to show the HTML representation or trust the notebook. <br />On GitHub, the HTML representation is unable to render, please try loading this page with nbviewer.org.</b></div><div class=\"sk-container\" hidden><div class=\"sk-item\"><div class=\"sk-estimator sk-toggleable\"><input class=\"sk-toggleable__control sk-hidden--visually\" id=\"sk-estimator-id-1\" type=\"checkbox\" checked><label for=\"sk-estimator-id-1\" class=\"sk-toggleable__label sk-toggleable__label-arrow\">KMeans</label><div class=\"sk-toggleable__content\"><pre>KMeans(n_clusters=10)</pre></div></div></div></div></div>"
      ],
      "text/plain": [
       "KMeans(n_clusters=10)"
      ]
     },
     "execution_count": 29,
     "metadata": {},
     "output_type": "execute_result"
    }
   ],
   "source": [
    "# random guess for k\n",
    "kmeans=KMeans(n_clusters=10)\n",
    "kmeans.fit(x_scaled)\n"
   ]
  },
  {
   "cell_type": "code",
   "execution_count": 30,
   "metadata": {},
   "outputs": [
    {
     "name": "stdout",
     "output_type": "stream",
     "text": [
      "0.08705468320718607\n"
     ]
    }
   ],
   "source": [
    "labels=kmeans.predict(x_scaled)\n",
    "print(silhouette_score(x_scaled, labels))\n"
   ]
  },
  {
   "cell_type": "code",
   "execution_count": 32,
   "metadata": {},
   "outputs": [
    {
     "name": "stderr",
     "output_type": "stream",
     "text": [
      "c:\\Users\\sagar\\OneDrive\\Escritorio\\Data_science&ML\\data-science-machine-learning-main\\notebooks\\venv\\Lib\\site-packages\\sklearn\\cluster\\_kmeans.py:1412: FutureWarning: The default value of `n_init` will change from 10 to 'auto' in 1.4. Set the value of `n_init` explicitly to suppress the warning\n",
      "  super()._check_params_vs_input(X, default_n_init=10)\n",
      "c:\\Users\\sagar\\OneDrive\\Escritorio\\Data_science&ML\\data-science-machine-learning-main\\notebooks\\venv\\Lib\\site-packages\\sklearn\\cluster\\_kmeans.py:1412: FutureWarning: The default value of `n_init` will change from 10 to 'auto' in 1.4. Set the value of `n_init` explicitly to suppress the warning\n",
      "  super()._check_params_vs_input(X, default_n_init=10)\n"
     ]
    },
    {
     "name": "stdout",
     "output_type": "stream",
     "text": [
      "The number of clusters is 2 and the silhouete score is 0.1329368135348219\n",
      "The number of clusters is 3 and the silhouete score is 0.1913558686436536\n"
     ]
    },
    {
     "name": "stderr",
     "output_type": "stream",
     "text": [
      "c:\\Users\\sagar\\OneDrive\\Escritorio\\Data_science&ML\\data-science-machine-learning-main\\notebooks\\venv\\Lib\\site-packages\\sklearn\\cluster\\_kmeans.py:1412: FutureWarning: The default value of `n_init` will change from 10 to 'auto' in 1.4. Set the value of `n_init` explicitly to suppress the warning\n",
      "  super()._check_params_vs_input(X, default_n_init=10)\n",
      "c:\\Users\\sagar\\OneDrive\\Escritorio\\Data_science&ML\\data-science-machine-learning-main\\notebooks\\venv\\Lib\\site-packages\\sklearn\\cluster\\_kmeans.py:1412: FutureWarning: The default value of `n_init` will change from 10 to 'auto' in 1.4. Set the value of `n_init` explicitly to suppress the warning\n",
      "  super()._check_params_vs_input(X, default_n_init=10)\n"
     ]
    },
    {
     "name": "stdout",
     "output_type": "stream",
     "text": [
      "The number of clusters is 4 and the silhouete score is 0.13958832700635948\n",
      "The number of clusters is 5 and the silhouete score is 0.12564220354759112\n"
     ]
    },
    {
     "name": "stderr",
     "output_type": "stream",
     "text": [
      "c:\\Users\\sagar\\OneDrive\\Escritorio\\Data_science&ML\\data-science-machine-learning-main\\notebooks\\venv\\Lib\\site-packages\\sklearn\\cluster\\_kmeans.py:1412: FutureWarning: The default value of `n_init` will change from 10 to 'auto' in 1.4. Set the value of `n_init` explicitly to suppress the warning\n",
      "  super()._check_params_vs_input(X, default_n_init=10)\n",
      "c:\\Users\\sagar\\OneDrive\\Escritorio\\Data_science&ML\\data-science-machine-learning-main\\notebooks\\venv\\Lib\\site-packages\\sklearn\\cluster\\_kmeans.py:1412: FutureWarning: The default value of `n_init` will change from 10 to 'auto' in 1.4. Set the value of `n_init` explicitly to suppress the warning\n",
      "  super()._check_params_vs_input(X, default_n_init=10)\n"
     ]
    },
    {
     "name": "stdout",
     "output_type": "stream",
     "text": [
      "The number of clusters is 6 and the silhouete score is 0.10468973626764431\n",
      "The number of clusters is 7 and the silhouete score is 0.09553765175199554\n"
     ]
    },
    {
     "name": "stderr",
     "output_type": "stream",
     "text": [
      "c:\\Users\\sagar\\OneDrive\\Escritorio\\Data_science&ML\\data-science-machine-learning-main\\notebooks\\venv\\Lib\\site-packages\\sklearn\\cluster\\_kmeans.py:1412: FutureWarning: The default value of `n_init` will change from 10 to 'auto' in 1.4. Set the value of `n_init` explicitly to suppress the warning\n",
      "  super()._check_params_vs_input(X, default_n_init=10)\n",
      "c:\\Users\\sagar\\OneDrive\\Escritorio\\Data_science&ML\\data-science-machine-learning-main\\notebooks\\venv\\Lib\\site-packages\\sklearn\\cluster\\_kmeans.py:1412: FutureWarning: The default value of `n_init` will change from 10 to 'auto' in 1.4. Set the value of `n_init` explicitly to suppress the warning\n",
      "  super()._check_params_vs_input(X, default_n_init=10)\n"
     ]
    },
    {
     "name": "stdout",
     "output_type": "stream",
     "text": [
      "The number of clusters is 8 and the silhouete score is 0.0839011699404302\n",
      "The number of clusters is 9 and the silhouete score is 0.08749211867170958\n"
     ]
    },
    {
     "name": "stderr",
     "output_type": "stream",
     "text": [
      "c:\\Users\\sagar\\OneDrive\\Escritorio\\Data_science&ML\\data-science-machine-learning-main\\notebooks\\venv\\Lib\\site-packages\\sklearn\\cluster\\_kmeans.py:1412: FutureWarning: The default value of `n_init` will change from 10 to 'auto' in 1.4. Set the value of `n_init` explicitly to suppress the warning\n",
      "  super()._check_params_vs_input(X, default_n_init=10)\n",
      "c:\\Users\\sagar\\OneDrive\\Escritorio\\Data_science&ML\\data-science-machine-learning-main\\notebooks\\venv\\Lib\\site-packages\\sklearn\\cluster\\_kmeans.py:1412: FutureWarning: The default value of `n_init` will change from 10 to 'auto' in 1.4. Set the value of `n_init` explicitly to suppress the warning\n",
      "  super()._check_params_vs_input(X, default_n_init=10)\n"
     ]
    },
    {
     "name": "stdout",
     "output_type": "stream",
     "text": [
      "The number of clusters is 10 and the silhouete score is 0.0935634885071345\n",
      "The number of clusters is 11 and the silhouete score is 0.08776263262950415\n"
     ]
    },
    {
     "name": "stderr",
     "output_type": "stream",
     "text": [
      "c:\\Users\\sagar\\OneDrive\\Escritorio\\Data_science&ML\\data-science-machine-learning-main\\notebooks\\venv\\Lib\\site-packages\\sklearn\\cluster\\_kmeans.py:1412: FutureWarning: The default value of `n_init` will change from 10 to 'auto' in 1.4. Set the value of `n_init` explicitly to suppress the warning\n",
      "  super()._check_params_vs_input(X, default_n_init=10)\n"
     ]
    },
    {
     "name": "stdout",
     "output_type": "stream",
     "text": [
      "The number of clusters is 12 and the silhouete score is 0.0875826572708408\n",
      "The number of clusters is 13 and the silhouete score is 0.08695548213830284\n"
     ]
    },
    {
     "name": "stderr",
     "output_type": "stream",
     "text": [
      "c:\\Users\\sagar\\OneDrive\\Escritorio\\Data_science&ML\\data-science-machine-learning-main\\notebooks\\venv\\Lib\\site-packages\\sklearn\\cluster\\_kmeans.py:1412: FutureWarning: The default value of `n_init` will change from 10 to 'auto' in 1.4. Set the value of `n_init` explicitly to suppress the warning\n",
      "  super()._check_params_vs_input(X, default_n_init=10)\n",
      "c:\\Users\\sagar\\OneDrive\\Escritorio\\Data_science&ML\\data-science-machine-learning-main\\notebooks\\venv\\Lib\\site-packages\\sklearn\\cluster\\_kmeans.py:1412: FutureWarning: The default value of `n_init` will change from 10 to 'auto' in 1.4. Set the value of `n_init` explicitly to suppress the warning\n",
      "  super()._check_params_vs_input(X, default_n_init=10)\n"
     ]
    },
    {
     "name": "stdout",
     "output_type": "stream",
     "text": [
      "The number of clusters is 14 and the silhouete score is 0.08611832700452936\n",
      "The number of clusters is 15 and the silhouete score is 0.08855301514526355\n"
     ]
    },
    {
     "name": "stderr",
     "output_type": "stream",
     "text": [
      "c:\\Users\\sagar\\OneDrive\\Escritorio\\Data_science&ML\\data-science-machine-learning-main\\notebooks\\venv\\Lib\\site-packages\\sklearn\\cluster\\_kmeans.py:1412: FutureWarning: The default value of `n_init` will change from 10 to 'auto' in 1.4. Set the value of `n_init` explicitly to suppress the warning\n",
      "  super()._check_params_vs_input(X, default_n_init=10)\n",
      "c:\\Users\\sagar\\OneDrive\\Escritorio\\Data_science&ML\\data-science-machine-learning-main\\notebooks\\venv\\Lib\\site-packages\\sklearn\\cluster\\_kmeans.py:1412: FutureWarning: The default value of `n_init` will change from 10 to 'auto' in 1.4. Set the value of `n_init` explicitly to suppress the warning\n",
      "  super()._check_params_vs_input(X, default_n_init=10)\n"
     ]
    },
    {
     "name": "stdout",
     "output_type": "stream",
     "text": [
      "The number of clusters is 16 and the silhouete score is 0.08881557227163417\n",
      "The number of clusters is 17 and the silhouete score is 0.08793410871522411\n"
     ]
    },
    {
     "name": "stderr",
     "output_type": "stream",
     "text": [
      "c:\\Users\\sagar\\OneDrive\\Escritorio\\Data_science&ML\\data-science-machine-learning-main\\notebooks\\venv\\Lib\\site-packages\\sklearn\\cluster\\_kmeans.py:1412: FutureWarning: The default value of `n_init` will change from 10 to 'auto' in 1.4. Set the value of `n_init` explicitly to suppress the warning\n",
      "  super()._check_params_vs_input(X, default_n_init=10)\n",
      "c:\\Users\\sagar\\OneDrive\\Escritorio\\Data_science&ML\\data-science-machine-learning-main\\notebooks\\venv\\Lib\\site-packages\\sklearn\\cluster\\_kmeans.py:1412: FutureWarning: The default value of `n_init` will change from 10 to 'auto' in 1.4. Set the value of `n_init` explicitly to suppress the warning\n",
      "  super()._check_params_vs_input(X, default_n_init=10)\n"
     ]
    },
    {
     "name": "stdout",
     "output_type": "stream",
     "text": [
      "The number of clusters is 18 and the silhouete score is 0.09118092670068746\n",
      "The number of clusters is 19 and the silhouete score is 0.09106123041858259\n"
     ]
    },
    {
     "name": "stderr",
     "output_type": "stream",
     "text": [
      "c:\\Users\\sagar\\OneDrive\\Escritorio\\Data_science&ML\\data-science-machine-learning-main\\notebooks\\venv\\Lib\\site-packages\\sklearn\\cluster\\_kmeans.py:1412: FutureWarning: The default value of `n_init` will change from 10 to 'auto' in 1.4. Set the value of `n_init` explicitly to suppress the warning\n",
      "  super()._check_params_vs_input(X, default_n_init=10)\n"
     ]
    }
   ],
   "source": [
    "for i in range (2,20):\n",
    "    kmeans=KMeans(n_clusters=i)\n",
    "    kmeans.fit(x_scaled)\n",
    "    labels=kmeans.predict(x_scaled)\n",
    "    print(f\"The number of clusters is {i} and the silhouete score is {silhouette_score(x_scaled, labels)}\") #parce que clusters=3 es la mejor opcion"
   ]
  },
  {
   "cell_type": "markdown",
   "metadata": {},
   "source": [
    "The number of clusters seems to be 3 based on the silhouete score."
   ]
  },
  {
   "cell_type": "markdown",
   "metadata": {},
   "source": [
    "### Cluster Discussion\n",
    "\n",
    "Ok, so we found the best number of clusters according to the silhouette score.  So what? I mean to say, what do we do with that? We know that according the silhouette score this is the best, but... even if that's correct, _now what_? How do we use these clusters to help us run our business?\n",
    "How can we learn what these clusters represent?\n",
    "\n",
    "I can think of one thing to check\n",
    "\n",
    "1. Look at the feature values of the cluster centroids.\n",
    "\n",
    "Recall that every cluster in kmeans has a centroid. That centroid is the very _center_ of the cluster, so we can look at the feature values of the centroids and see what they tell us. In theory the centroids represent the cluster (generally). \n",
    "\n",
    "We can look at the cluster centroids right now.  Let's examine then with a barplot."
   ]
  },
  {
   "cell_type": "code",
   "execution_count": 33,
   "metadata": {},
   "outputs": [
    {
     "name": "stderr",
     "output_type": "stream",
     "text": [
      "c:\\Users\\sagar\\OneDrive\\Escritorio\\Data_science&ML\\data-science-machine-learning-main\\notebooks\\venv\\Lib\\site-packages\\sklearn\\cluster\\_kmeans.py:1412: FutureWarning: The default value of `n_init` will change from 10 to 'auto' in 1.4. Set the value of `n_init` explicitly to suppress the warning\n",
      "  super()._check_params_vs_input(X, default_n_init=10)\n"
     ]
    }
   ],
   "source": [
    "# fit a kmeans cluster with desired number of components\n",
    "kmeans=KMeans(3).fit(x_scaled)\n"
   ]
  },
  {
   "cell_type": "code",
   "execution_count": 34,
   "metadata": {},
   "outputs": [
    {
     "data": {
      "text/plain": [
       "(2000, 12)"
      ]
     },
     "execution_count": 34,
     "metadata": {},
     "output_type": "execute_result"
    }
   ],
   "source": [
    "# look for the centers of your clusters.  \n",
    "# Hint: your kmeans object has an attribute you'd want to use\n",
    "X.shape\n"
   ]
  },
  {
   "cell_type": "code",
   "execution_count": 35,
   "metadata": {},
   "outputs": [
    {
     "name": "stdout",
     "output_type": "stream",
     "text": [
      "(3, 12)\n",
      "[[ 4.13769256e-02 -2.57378564e-02 -1.01718633e-03 -1.86939575e-02\n",
      "  -3.50383462e-02 -1.25077317e-02  1.53321053e-02 -3.08946489e-02\n",
      "  -1.15358160e-02 -7.54073903e-01  1.25723711e+00 -5.77350269e-01]\n",
      " [-3.39709897e-02 -4.59231353e-02  1.96862083e-02  2.73124339e-02\n",
      "   4.44644922e-02  4.72945738e-02 -1.48218137e-02 -3.22407400e-02\n",
      "  -1.22070285e-02 -7.54073903e-01 -7.95394909e-01  1.73205081e+00]\n",
      " [-2.08022379e-02  5.91840088e-02 -1.24893583e-02  1.14703470e-03\n",
      "   6.78961682e-03 -1.92466136e-02 -6.16755144e-03  5.52603075e-02\n",
      "   2.07500298e-02  1.32612997e+00 -7.95394909e-01 -5.77350269e-01]]\n"
     ]
    }
   ],
   "source": [
    "#look at the centers of your clusters.\n",
    "centers=kmeans.cluster_centers_\n",
    "print(kmeans.cluster_centers_.shape)\n",
    "print(kmeans.cluster_centers_)"
   ]
  },
  {
   "cell_type": "code",
   "execution_count": 36,
   "metadata": {},
   "outputs": [],
   "source": [
    "# define a function to plot our ceters\n",
    "def plot_centroids(centers):\n",
    "    pd.DataFrame(centers, columns = X.columns).plot(kind = 'bar', figsize = (12,6))\n",
    "    plt.legend(loc='best', bbox_to_anchor=(0.8, 0.1, 0.5, 0.5)); # bbox is (x,y, width, height)\n"
   ]
  },
  {
   "cell_type": "code",
   "execution_count": 37,
   "metadata": {},
   "outputs": [
    {
     "data": {
      "image/png": "[encoded data removed]",
      "text/plain": [
       "<Figure size 1200x600 with 1 Axes>"
      ]
     },
     "metadata": {},
     "output_type": "display_data"
    }
   ],
   "source": [
    "plot_centroids(centers) \n",
    "#This data is highly dependent on the gender as we can see."
   ]
  },
  {
   "cell_type": "markdown",
   "metadata": {},
   "source": [
    "# DB-Scan\n",
    "\n",
    "Let's now try DB-scan. Remember we have three parameters we need to set\n",
    "1. `eps` the radius of our circle that we will search in\n",
    "2. `min_samples` the minimum number of samples we need to find within our radius to call it a cluster\n",
    "3. `metric` our distance metric.  Defaults to Euclidean (L2-norm).\n",
    "\n",
    "So, we get to fiddle with 3 parameters, but we don't have to worry about \"how many\" clusters to look for, db-scan will decide for us.\n"
   ]
  },
  {
   "cell_type": "code",
   "execution_count": 38,
   "metadata": {},
   "outputs": [],
   "source": [
    "# run dbscan \n",
    "# pick an eps -- how might we do this? what range are your features in?\n",
    "# Your eps should be relevant to the feature space you exist in\n",
    "# pick min_samples\n",
    "\n",
    "dbscan= DBSCAN(eps=3.0, min_samples=5).fit(x_scaled)"
   ]
  },
  {
   "cell_type": "markdown",
   "metadata": {},
   "source": [
    "\n",
    "#### ok, now you fit a dbscan. \n",
    "1. how do we figure out how many clusters it found?\n",
    "DBscan has 3 main attributes, 1\n",
    "\n",
    ">**core_sample_indices_ndarray of shape (n_core_samples,)**\n",
    "Indices of core samples.\n",
    "\n",
    ">**components_ndarray of shape (n_core_samples, n_features)**\n",
    "Copy of each core sample found by training.\n",
    "\n",
    ">**labels_ndarray of shape (n_samples)**\n",
    "Cluster labels for each point in the dataset given to fit(). Noisy samples are given the label -1.\n",
    "\n",
    "https://scikit-learn.org/stable/modules/generated/sklearn.cluster.DBSCAN.html\n",
    "\n",
    "Go ahead and look at those attributes. Print them out. Which one will help us figure out how many clusters DBscan found?\n",
    "\n",
    "Also pay attention to changing `eps`, if `eps` is too small what happens? Too large?"
   ]
  },
  {
   "cell_type": "code",
   "execution_count": 39,
   "metadata": {},
   "outputs": [
    {
     "data": {
      "text/plain": [
       "array([0, 1, 1, ..., 1, 0, 2], dtype=int64)"
      ]
     },
     "execution_count": 39,
     "metadata": {},
     "output_type": "execute_result"
    }
   ],
   "source": [
    "dbscan.labels_"
   ]
  },
  {
   "cell_type": "code",
   "execution_count": 40,
   "metadata": {},
   "outputs": [
    {
     "data": {
      "text/plain": [
       "(2000,)"
      ]
     },
     "execution_count": 40,
     "metadata": {},
     "output_type": "execute_result"
    }
   ],
   "source": [
    "dbscan.labels_.shape"
   ]
  },
  {
   "cell_type": "code",
   "execution_count": 41,
   "metadata": {},
   "outputs": [
    {
     "data": {
      "text/plain": [
       "(1989, 12)"
      ]
     },
     "execution_count": 41,
     "metadata": {},
     "output_type": "execute_result"
    }
   ],
   "source": [
    "dbscan.components_.shape"
   ]
  },
  {
   "cell_type": "code",
   "execution_count": 42,
   "metadata": {},
   "outputs": [
    {
     "data": {
      "text/plain": [
       "array([   0,    1,    2, ..., 1997, 1998, 1999], dtype=int64)"
      ]
     },
     "execution_count": 42,
     "metadata": {},
     "output_type": "execute_result"
    }
   ],
   "source": [
    "dbscan.core_sample_indices_"
   ]
  },
  {
   "cell_type": "code",
   "execution_count": 43,
   "metadata": {},
   "outputs": [
    {
     "data": {
      "text/plain": [
       "(1989,)"
      ]
     },
     "execution_count": 43,
     "metadata": {},
     "output_type": "execute_result"
    }
   ],
   "source": [
    "dbscan.core_sample_indices_.shape"
   ]
  },
  {
   "cell_type": "markdown",
   "metadata": {},
   "source": [
    "## Calculate the Silhouette Score\n",
    "\n",
    "In order to perform the silhouette score we need the labels (that's pretty easy they are given to us), however we should _exclude_ the -1's because they represent points that are _not_ in a cluster. So they are basically discarded. We should probably collect those somewhere and else and see how large that number is. But it should not be part of the silhouette core.\n",
    "\n",
    "So\n",
    "1. seperate out the points which have the label `-1`\n",
    "\n",
    "Then after we have done that, we can calcluate the silhouette score easily. \n",
    "#### NOTE\n",
    "DBscan in scikit-learn is implemented with the notion of \"core samples\".  From the [documentation:](https://scikit-learn.org/stable/modules/clustering.html#dbscan)\n",
    ">More formally, we define a core sample as being a sample in the dataset such that there exist min_samples other samples within a distance of eps, which are defined as neighbors of the core sample. This tells us that the core sample is in a dense area of the vector space. A cluster is a set of core samples that can be built by recursively taking a core sample, finding all of its neighbors that are core samples, finding all of their neighbors that are core samples, and so on. **A cluster also has a set of non-core samples, which are samples that are neighbors of a core sample in the cluster but are not themselves core samples.** Intuitively, these samples are on the fringes of a cluster.\n",
    "\n",
    "This means that the attributes `components` and `core_sample_indices` will only return core samples, for us to get all the points _within_ the cluster we will have to rely on the labels\n",
    "\n",
    "### Number of clusters?\n",
    "But what about the # of clusters? How many did we find and how many in each cluster? We need to examine the labels again, but this time count the unique ones and also count how many of each unique we have.\n",
    "\n",
    "### Goal\n",
    "Run our little line of code, which gives both the score and # of clusters.\n",
    "\n",
    "`print(f\"The number of clusters is {num_clusters} and the Silhouette score is {silhouette_score(x_scaled, dbscan.labels_)}\")`\n",
    "\n",
    "\n",
    "Oh! we also should probably add\n",
    "`print(f\"The number of discarded points was {}\")`\n"
   ]
  },
  {
   "cell_type": "code",
   "execution_count": 44,
   "metadata": {},
   "outputs": [
    {
     "name": "stdout",
     "output_type": "stream",
     "text": [
      "[-1  0  1  2]\n",
      "[  1 500 775 724]\n"
     ]
    }
   ],
   "source": [
    "## remove the -1's from the labels.\n",
    "## you also will need to remove the corresponding x_scaled samples so you can compute the silhouette score.\n",
    "# you can use numpy boolean indexing masks for this.\n",
    "uniques, counts= np.unique(dbscan.labels_, return_counts=True)\n",
    "print(uniques)\n",
    "print(counts)\n"
   ]
  },
  {
   "cell_type": "code",
   "execution_count": 45,
   "metadata": {},
   "outputs": [
    {
     "data": {
      "text/plain": [
       "(1989,)"
      ]
     },
     "execution_count": 45,
     "metadata": {},
     "output_type": "execute_result"
    }
   ],
   "source": [
    "dbscan.core_sample_indices_.shape  #hay 1 punto que no esta contenido en ningun cluster pero hay 1989 puntos en el core (no 1999)\n",
    "                                    # eso significa que hay 10 puntos que no estan contenidos para crear el core"
   ]
  },
  {
   "cell_type": "code",
   "execution_count": 46,
   "metadata": {},
   "outputs": [
    {
     "data": {
      "text/plain": [
       "(2000,)"
      ]
     },
     "execution_count": 46,
     "metadata": {},
     "output_type": "execute_result"
    }
   ],
   "source": [
    "dbscan.labels_.shape"
   ]
  },
  {
   "cell_type": "code",
   "execution_count": 48,
   "metadata": {},
   "outputs": [
    {
     "data": {
      "text/plain": [
       "(2000, 12)"
      ]
     },
     "execution_count": 48,
     "metadata": {},
     "output_type": "execute_result"
    }
   ],
   "source": [
    "x_scaled.shape"
   ]
  },
  {
   "cell_type": "code",
   "execution_count": 50,
   "metadata": {},
   "outputs": [
    {
     "data": {
      "text/plain": [
       "(2000,)"
      ]
     },
     "execution_count": 50,
     "metadata": {},
     "output_type": "execute_result"
    }
   ],
   "source": [
    "a= dbscan.labels_!=-1\n",
    "a.shape"
   ]
  },
  {
   "cell_type": "code",
   "execution_count": 47,
   "metadata": {},
   "outputs": [],
   "source": [
    "## remove the -1's from the labels\n",
    "# you also will need to remove the corresponding x_scaled samples so you can compute the silhouete score\n",
    "#you can use numpy boolean indexing masks for this\n",
    "\n",
    "labels=dbscan.labels_[dbscan.labels_!=-1]\n",
    "x_points=x_scaled[dbscan.labels_!=-1]"
   ]
  },
  {
   "cell_type": "code",
   "execution_count": 51,
   "metadata": {},
   "outputs": [
    {
     "data": {
      "text/plain": [
       "(1999,)"
      ]
     },
     "execution_count": 51,
     "metadata": {},
     "output_type": "execute_result"
    }
   ],
   "source": [
    "labels.shape"
   ]
  },
  {
   "cell_type": "code",
   "execution_count": 52,
   "metadata": {},
   "outputs": [
    {
     "data": {
      "text/plain": [
       "(1999, 12)"
      ]
     },
     "execution_count": 52,
     "metadata": {},
     "output_type": "execute_result"
    }
   ],
   "source": [
    "x_points.shape"
   ]
  },
  {
   "cell_type": "code",
   "execution_count": 62,
   "metadata": {},
   "outputs": [
    {
     "data": {
      "text/plain": [
       "array([ 0.20501805, -1.57115701,  0.55556919,  0.        ,  1.71352849,\n",
       "        1.31570444, -0.27890965,  1.48794196,  0.27244935, -0.7540739 ,\n",
       "       -0.79539491,  1.73205081])"
      ]
     },
     "execution_count": 62,
     "metadata": {},
     "output_type": "execute_result"
    }
   ],
   "source": [
    "x_points[0]"
   ]
  },
  {
   "cell_type": "code",
   "execution_count": 53,
   "metadata": {},
   "outputs": [
    {
     "data": {
      "text/plain": [
       "0.19139771794639499"
      ]
     },
     "execution_count": 53,
     "metadata": {},
     "output_type": "execute_result"
    }
   ],
   "source": [
    "# Ok now if you have the labels and x's without -1's you can actually compute the silhouete score now\n",
    "silhouette_score(x_points, labels)"
   ]
  },
  {
   "cell_type": "code",
   "execution_count": 54,
   "metadata": {},
   "outputs": [],
   "source": [
    "uniques, counts= np.unique(labels, return_counts=True)"
   ]
  },
  {
   "cell_type": "code",
   "execution_count": 55,
   "metadata": {},
   "outputs": [
    {
     "name": "stdout",
     "output_type": "stream",
     "text": [
      "[0 1 2]\n"
     ]
    }
   ],
   "source": [
    "print(uniques)      #Dbscan only returns different type of labels not number of clusters that's why we need to clean it"
   ]
  },
  {
   "cell_type": "code",
   "execution_count": 56,
   "metadata": {},
   "outputs": [
    {
     "name": "stdout",
     "output_type": "stream",
     "text": [
      "[[  0 500]\n",
      " [  1 775]\n",
      " [  2 724]]\n"
     ]
    }
   ],
   "source": [
    "print(np.asarray((uniques,counts)).T)"
   ]
  },
  {
   "cell_type": "code",
   "execution_count": 57,
   "metadata": {},
   "outputs": [
    {
     "name": "stdout",
     "output_type": "stream",
     "text": [
      "The number of clusters is 3 and the Silhouete score is 0.19139771794639499\n"
     ]
    }
   ],
   "source": [
    "num_clusters=len(np.unique(labels))\n",
    "print(f\"The number of clusters is {num_clusters} and the Silhouete score is {silhouette_score(x_points,labels)}\")   #almost same score as k-means"
   ]
  },
  {
   "cell_type": "markdown",
   "metadata": {},
   "source": [
    "### How does it compare?\n",
    "\n",
    "Did your DBscan find similar clusters to k-means? Same number of clusters? More ? Less? What about the silhouette score? Better or worse?\n",
    "\n",
    "\n",
    "### Next we'd like to look at the centroids\n",
    "\n",
    "Actually, DBscan doesn't have centroids naturally the same way k-means does. But we can compute it ourselves.\n",
    "We would need to isolate the points of each group, and then just take the mean column wise, that would represent the centroid of each cluster.  You can do this with a numpy mask\n",
    "\n"
   ]
  },
  {
   "cell_type": "code",
   "execution_count": 58,
   "metadata": {},
   "outputs": [],
   "source": [
    "centers=[]\n",
    "for label in uniques:\n",
    "    centers.append(x_points[labels==label].mean(axis=0))        #coge todos los labeles iguales para encontrar sus radios\n",
    "\n",
    "dbcenters=np.array(centers)"
   ]
  },
  {
   "cell_type": "code",
   "execution_count": 59,
   "metadata": {},
   "outputs": [
    {
     "data": {
      "text/plain": [
       "array([[-3.39709897e-02, -4.59231353e-02,  1.96862083e-02,\n",
       "         2.73124339e-02,  4.44644922e-02,  4.72945738e-02,\n",
       "        -1.48218137e-02, -3.22407400e-02, -1.22070285e-02,\n",
       "        -7.54073903e-01, -7.95394909e-01,  1.73205081e+00],\n",
       "       [ 4.13769256e-02, -2.57378564e-02, -1.01718633e-03,\n",
       "        -1.86939575e-02, -3.50383462e-02, -1.25077317e-02,\n",
       "         1.53321053e-02, -3.08946489e-02, -1.15358160e-02,\n",
       "        -7.54073903e-01,  1.25723711e+00, -5.77350269e-01],\n",
       "       [-2.31225013e-02,  5.82374677e-02, -1.37552243e-02,\n",
       "         1.14861900e-03,  1.95485869e-03, -1.78551261e-02,\n",
       "        -4.43231739e-03,  5.31704837e-02,  2.16615952e-02,\n",
       "         1.32612997e+00, -7.95394909e-01, -5.77350269e-01]])"
      ]
     },
     "execution_count": 59,
     "metadata": {},
     "output_type": "execute_result"
    }
   ],
   "source": [
    "dbcenters"
   ]
  },
  {
   "cell_type": "code",
   "execution_count": 61,
   "metadata": {},
   "outputs": [
    {
     "data": {
      "text/plain": [
       "(3, 12)"
      ]
     },
     "execution_count": 61,
     "metadata": {},
     "output_type": "execute_result"
    }
   ],
   "source": [
    "dbcenters.shape"
   ]
  },
  {
   "cell_type": "code",
   "execution_count": 60,
   "metadata": {},
   "outputs": [
    {
     "data": {
      "image/png": "[encoded data removed]",
      "text/plain": [
       "<Figure size 1200x600 with 1 Axes>"
      ]
     },
     "metadata": {},
     "output_type": "display_data"
    }
   ],
   "source": [
    "plot_centroids(dbcenters)"
   ]
  },
  {
   "cell_type": "markdown",
   "metadata": {},
   "source": [
    "As we can see the data is divided in 3 clusters based on gender (Female, Male and Non-Binary)"
   ]
  }
 ],
 "metadata": {
  "kernelspec": {
   "display_name": "Python 3",
   "language": "python",
   "name": "python3"
  },
  "language_info": {
   "codemirror_mode": {
    "name": "ipython",
    "version": 3
   },
   "file_extension": ".py",
   "mimetype": "text/x-python",
   "name": "python",
   "nbconvert_exporter": "python",
   "pygments_lexer": "ipython3",
   "version": "3.11.3"
  }
 },
 "nbformat": 4,
 "nbformat_minor": 4
}
